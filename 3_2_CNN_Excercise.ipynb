{
  "cells": [
    {
      "cell_type": "markdown",
      "metadata": {
        "id": "view-in-github",
        "colab_type": "text"
      },
      "source": [
        "<a href=\"https://colab.research.google.com/github/reisahaveri/basic-calculator/blob/main/3_2_CNN_Excercise.ipynb\" target=\"_parent\"><img src=\"https://colab.research.google.com/assets/colab-badge.svg\" alt=\"Open In Colab\"/></a>"
      ]
    },
    {
      "cell_type": "markdown",
      "id": "fa462235",
      "metadata": {
        "id": "fa462235"
      },
      "source": [
        "# <font face=\"gotham\" color=\"Green\">  Prototyping with Deep Learning  </font>"
      ]
    },
    {
      "cell_type": "markdown",
      "id": "4016d7f3",
      "metadata": {
        "id": "4016d7f3"
      },
      "source": [
        "# Convolutional Neural Networks"
      ]
    },
    {
      "cell_type": "markdown",
      "id": "1d60fe6a",
      "metadata": {
        "id": "1d60fe6a"
      },
      "source": [
        "## **Learning goals:**\n",
        "\n",
        "1. To start working with real image data.\n",
        "2. To train and test a CNN model for a binary classification task with PyTorch.\n",
        "\n"
      ]
    },
    {
      "cell_type": "markdown",
      "id": "c203ef4f",
      "metadata": {
        "id": "c203ef4f"
      },
      "source": [
        "## 1. Getting Data"
      ]
    },
    {
      "cell_type": "markdown",
      "id": "8f75a611",
      "metadata": {
        "id": "8f75a611"
      },
      "source": [
        "In the previous tuorial we've used [MNIST](http://yann.lecun.com/exdb/mnist/) and [CIFAR-10 ](https://www.cs.toronto.edu/~kriz/cifar.html) datasets, which allowed us to skip preprocessing.\n",
        "\n",
        "- Today we will work with [Cats vs Dogs](https://www.microsoft.com/en-us/download/details.aspx?id=54765) dataset. click [here](https://download.microsoft.com/download/3/E/1/3E1C3F21-ECDB-4869-8368-6DEBA77B919F/kagglecatsanddogs_3367a.zip) to download. The Cats Vs Dogs dataset contains two class of images Cats and Dogs."
      ]
    },
    {
      "cell_type": "code",
      "execution_count": null,
      "id": "354cdcce",
      "metadata": {
        "id": "354cdcce"
      },
      "outputs": [],
      "source": []
    },
    {
      "cell_type": "markdown",
      "id": "1efb1cee",
      "metadata": {
        "id": "1efb1cee"
      },
      "source": [
        "## 1.1 Preprocessing"
      ]
    },
    {
      "cell_type": "code",
      "execution_count": null,
      "id": "86d3b0fd",
      "metadata": {
        "id": "86d3b0fd"
      },
      "outputs": [],
      "source": [
        "import os\n",
        "import cv2\n",
        "import numpy as np\n",
        "from tqdm import tqdm"
      ]
    },
    {
      "cell_type": "code",
      "execution_count": null,
      "id": "07a2982a",
      "metadata": {
        "scrolled": true,
        "colab": {
          "base_uri": "https://localhost:8080/",
          "height": 315
        },
        "id": "07a2982a",
        "outputId": "4e633078-c7c8-489a-ea51-33735611e430"
      },
      "outputs": [
        {
          "output_type": "stream",
          "name": "stdout",
          "text": [
            "PetImages/Cat\n"
          ]
        },
        {
          "output_type": "error",
          "ename": "FileNotFoundError",
          "evalue": "[Errno 2] No such file or directory: 'PetImages/Cat'",
          "traceback": [
            "\u001b[0;31m---------------------------------------------------------------------------\u001b[0m",
            "\u001b[0;31mFileNotFoundError\u001b[0m                         Traceback (most recent call last)",
            "\u001b[0;32m<ipython-input-2-a0ada47e8ca3>\u001b[0m in \u001b[0;36m<cell line: 40>\u001b[0;34m()\u001b[0m\n\u001b[1;32m     40\u001b[0m \u001b[0;32mif\u001b[0m \u001b[0mREBUILD_DATA\u001b[0m\u001b[0;34m:\u001b[0m\u001b[0;34m\u001b[0m\u001b[0;34m\u001b[0m\u001b[0m\n\u001b[1;32m     41\u001b[0m     \u001b[0mdogsvcats\u001b[0m \u001b[0;34m=\u001b[0m \u001b[0mDogsVSCats\u001b[0m\u001b[0;34m(\u001b[0m\u001b[0;34m)\u001b[0m\u001b[0;34m\u001b[0m\u001b[0;34m\u001b[0m\u001b[0m\n\u001b[0;32m---> 42\u001b[0;31m     \u001b[0mdogsvcats\u001b[0m\u001b[0;34m.\u001b[0m\u001b[0mmake_training_data\u001b[0m\u001b[0;34m(\u001b[0m\u001b[0;34m)\u001b[0m\u001b[0;34m\u001b[0m\u001b[0;34m\u001b[0m\u001b[0m\n\u001b[0m",
            "\u001b[0;32m<ipython-input-2-a0ada47e8ca3>\u001b[0m in \u001b[0;36mmake_training_data\u001b[0;34m(self)\u001b[0m\n\u001b[1;32m     15\u001b[0m         \u001b[0;32mfor\u001b[0m \u001b[0mlabel\u001b[0m \u001b[0;32min\u001b[0m \u001b[0mself\u001b[0m\u001b[0;34m.\u001b[0m\u001b[0mLABELS\u001b[0m\u001b[0;34m:\u001b[0m\u001b[0;34m\u001b[0m\u001b[0;34m\u001b[0m\u001b[0m\n\u001b[1;32m     16\u001b[0m             \u001b[0mprint\u001b[0m\u001b[0;34m(\u001b[0m\u001b[0mlabel\u001b[0m\u001b[0;34m)\u001b[0m\u001b[0;34m\u001b[0m\u001b[0;34m\u001b[0m\u001b[0m\n\u001b[0;32m---> 17\u001b[0;31m             \u001b[0;32mfor\u001b[0m \u001b[0mf\u001b[0m \u001b[0;32min\u001b[0m \u001b[0mtqdm\u001b[0m\u001b[0;34m(\u001b[0m\u001b[0mos\u001b[0m\u001b[0;34m.\u001b[0m\u001b[0mlistdir\u001b[0m\u001b[0;34m(\u001b[0m\u001b[0mlabel\u001b[0m\u001b[0;34m)\u001b[0m\u001b[0;34m)\u001b[0m\u001b[0;34m:\u001b[0m\u001b[0;34m\u001b[0m\u001b[0;34m\u001b[0m\u001b[0m\n\u001b[0m\u001b[1;32m     18\u001b[0m                 \u001b[0;32mif\u001b[0m \u001b[0;34m\"jpg\"\u001b[0m \u001b[0;32min\u001b[0m \u001b[0mf\u001b[0m\u001b[0;34m:\u001b[0m\u001b[0;34m\u001b[0m\u001b[0;34m\u001b[0m\u001b[0m\n\u001b[1;32m     19\u001b[0m                     \u001b[0;32mtry\u001b[0m\u001b[0;34m:\u001b[0m\u001b[0;34m\u001b[0m\u001b[0;34m\u001b[0m\u001b[0m\n",
            "\u001b[0;31mFileNotFoundError\u001b[0m: [Errno 2] No such file or directory: 'PetImages/Cat'"
          ]
        }
      ],
      "source": [
        "REBUILD_DATA = True # set to true to one once, then back to false unless you want to change something in your training data.\n",
        "\n",
        "class DogsVSCats():\n",
        "    IMG_SIZE = 50\n",
        "    CATS = \"PetImages/Cat\"\n",
        "    DOGS = \"PetImages/Dog\"\n",
        "    TESTING = \"PetImages/Testing\"\n",
        "    LABELS = {CATS: 0, DOGS: 1}\n",
        "    training_data = []\n",
        "\n",
        "    catcount = 0\n",
        "    dogcount = 0\n",
        "\n",
        "    def make_training_data(self):\n",
        "        for label in self.LABELS:\n",
        "            print(label)\n",
        "            for f in tqdm(os.listdir(label)):\n",
        "                if \"jpg\" in f:\n",
        "                    try:\n",
        "                        path = os.path.join(label, f)\n",
        "                        img = cv2.imread(path, cv2.IMREAD_GRAYSCALE)\n",
        "                        img = cv2.resize(img, (self.IMG_SIZE, self.IMG_SIZE))\n",
        "                        self.training_data.append([np.array(img), np.eye(2)[self.LABELS[label]]])  # do something like print(np.eye(2)[1]), just makes one_hot\n",
        "                        #print(np.eye(2)[self.LABELS[label]])\n",
        "\n",
        "                        if label == self.CATS:\n",
        "                            self.catcount += 1\n",
        "                        elif label == self.DOGS:\n",
        "                            self.dogcount += 1\n",
        "\n",
        "                    except Exception as e:\n",
        "                        pass\n",
        "                        #print(label, f, str(e))\n",
        "\n",
        "        np.random.shuffle(self.training_data)\n",
        "        np.save(\"training_data.npy\", self.training_data)\n",
        "        print('Cats:',dogsvcats.catcount)\n",
        "        print('Dogs:',dogsvcats.dogcount)\n",
        "\n",
        "if REBUILD_DATA:\n",
        "    dogsvcats = DogsVSCats()\n",
        "    dogsvcats.make_training_data()"
      ]
    },
    {
      "cell_type": "markdown",
      "id": "e2c44d2e",
      "metadata": {
        "id": "e2c44d2e"
      },
      "source": [
        "## 1.2 Loading data"
      ]
    },
    {
      "cell_type": "markdown",
      "id": "66127a06",
      "metadata": {
        "id": "66127a06"
      },
      "source": [
        "Now we have a `training_data.npy` file to use this data we can just load it by doing:"
      ]
    },
    {
      "cell_type": "code",
      "execution_count": null,
      "id": "077104d0",
      "metadata": {
        "id": "077104d0"
      },
      "outputs": [],
      "source": [
        "training_data = np.load(\"training_data.npy\", allow_pickle=True) # allow_pickle = True for safer handling of untrusted sources\n",
        "print(len(training_data))"
      ]
    },
    {
      "cell_type": "code",
      "execution_count": null,
      "id": "91ee9848",
      "metadata": {
        "id": "91ee9848"
      },
      "outputs": [],
      "source": [
        "print(training_data[10])"
      ]
    },
    {
      "cell_type": "code",
      "execution_count": null,
      "id": "aa6d4ac9",
      "metadata": {
        "id": "aa6d4ac9"
      },
      "outputs": [],
      "source": [
        "import matplotlib.pyplot as plt\n",
        "plt.imshow(training_data[10][0], cmap = 'gray')\n",
        "plt.show()"
      ]
    },
    {
      "cell_type": "code",
      "execution_count": null,
      "id": "de36de33",
      "metadata": {
        "id": "de36de33"
      },
      "outputs": [],
      "source": [
        "np.eye(2) # onehot encoding"
      ]
    },
    {
      "cell_type": "markdown",
      "id": "b0e0f9dc",
      "metadata": {
        "id": "b0e0f9dc"
      },
      "source": [
        "#### Last Preprocessing\n",
        "- convert this to tensor\n",
        "- Split your training and testing data"
      ]
    },
    {
      "cell_type": "markdown",
      "id": "03f9a1e5",
      "metadata": {
        "id": "03f9a1e5"
      },
      "source": [
        "## 2. Define a Convolutional Neural Network"
      ]
    },
    {
      "cell_type": "markdown",
      "id": "f6071859",
      "metadata": {
        "id": "f6071859"
      },
      "source": [
        "## 3.  Define a Loss function and optimizer"
      ]
    },
    {
      "cell_type": "markdown",
      "id": "381235f8",
      "metadata": {
        "id": "381235f8"
      },
      "source": [
        "## 4. Train the network"
      ]
    },
    {
      "cell_type": "markdown",
      "id": "2eac0573",
      "metadata": {
        "id": "2eac0573"
      },
      "source": [
        "## 5. Test the network on the test data"
      ]
    },
    {
      "cell_type": "markdown",
      "id": "f6546681",
      "metadata": {
        "id": "f6546681"
      },
      "source": [
        "## 6. Save the model"
      ]
    },
    {
      "cell_type": "code",
      "execution_count": null,
      "id": "41f8d4c4",
      "metadata": {
        "id": "41f8d4c4"
      },
      "outputs": [],
      "source": []
    }
  ],
  "metadata": {
    "kernelspec": {
      "display_name": "Python 3",
      "name": "python3"
    },
    "language_info": {
      "codemirror_mode": {
        "name": "ipython",
        "version": 3
      },
      "file_extension": ".py",
      "mimetype": "text/x-python",
      "name": "python",
      "nbconvert_exporter": "python",
      "pygments_lexer": "ipython3",
      "version": "3.8.13"
    },
    "colab": {
      "provenance": [],
      "gpuType": "T4",
      "include_colab_link": true
    },
    "accelerator": "GPU"
  },
  "nbformat": 4,
  "nbformat_minor": 5
}